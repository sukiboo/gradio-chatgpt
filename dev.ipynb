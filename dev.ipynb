{
 "cells": [
  {
   "cell_type": "markdown",
   "id": "18f2ec94-fbdc-46d9-95eb-2702df8b461d",
   "metadata": {},
   "source": [
    "# An Implementation of ChatGPT via Gradio Interface\n",
    "\n",
    "This notebook contains the same code as `app.py` and can be used for the interactive development and testing."
   ]
  },
  {
   "cell_type": "code",
   "execution_count": 1,
   "id": "6d5edaff-cb53-43f7-a60e-1495e3f3361b",
   "metadata": {},
   "outputs": [
    {
     "name": "stdout",
     "output_type": "stream",
     "text": [
      "Running on local URL:  http://127.0.0.1:7860\n",
      "\n",
      "To create a public link, set `share=True` in `launch()`.\n"
     ]
    },
    {
     "data": {
      "text/html": [
       "<div><iframe src=\"http://127.0.0.1:7860/\" width=\"100%\" height=\"500\" allow=\"autoplay; camera; microphone; clipboard-read; clipboard-write;\" frameborder=\"0\" allowfullscreen></iframe></div>"
      ],
      "text/plain": [
       "<IPython.core.display.HTML object>"
      ]
     },
     "metadata": {},
     "output_type": "display_data"
    }
   ],
   "source": [
    "import gradio as gr\n",
    "from openai import OpenAI\n",
    "\n",
    "\n",
    "class GPT:\n",
    "    \"\"\"Instantiate GPT model for a multi-step conversation.\"\"\"\n",
    "\n",
    "    def __init__(self, **params):\n",
    "        \"\"\"Setup model parameters and system prompt.\"\"\"\n",
    "        self.client = OpenAI()\n",
    "        self.params = {'model': 'gpt-3.5-turbo', **params}\n",
    "        self.messages = []\n",
    "\n",
    "    def chat(self, user_prompt, history=[], *params):\n",
    "        \"\"\"Update model parameters and generate a response.\"\"\"\n",
    "        _, system_prompt, temperature, top_p, frequency_penalty, presence_penalty = params\n",
    "\n",
    "        # update the parameters\n",
    "        self.params['temperature'] = temperature\n",
    "        self.params['top_p'] = top_p\n",
    "        self.params['frequency_penalty'] = frequency_penalty\n",
    "        self.params['presence_penalty'] = presence_penalty\n",
    "\n",
    "        # update the message buffer\n",
    "        self.messages = [{'role': 'system', 'content': f'{system_prompt}'}]\n",
    "        for prompt, response in history:\n",
    "            self.messages.append({'role': 'user', 'content': f'{prompt}'})\n",
    "            self.messages.append({'role': 'assistant', 'content': f'{response}'})\n",
    "        self.messages.append({'role': 'user', 'content': f'{user_prompt}'})\n",
    "\n",
    "        # generate a response\n",
    "        completion = self.client.chat.completions.create(messages=self.messages, **self.params)\n",
    "        response = completion.choices[0].message.content\n",
    "        self.messages.append({'role': 'assistant', 'content': response})\n",
    "\n",
    "        return response\n",
    "\n",
    "\n",
    "def run_chatbot(gpt):\n",
    "    \"\"\"Configure and launch the chatbot interface.\"\"\"\n",
    "    gr.close_all()\n",
    "    with gr.Blocks() as chatbot:\n",
    "\n",
    "        # parameters accordion\n",
    "        with gr.Accordion(label='GPT Parameters', open=False) as parameters:\n",
    "            info = gr.Markdown('For parameter documentation see [OpenAI Chat API Reference]' \\\n",
    "                               + '(https://platform.openai.com/docs/api-reference/chat)')\n",
    "            system_prompt = gr.Textbox('You are a helpful assistant.', label='system prompt')\n",
    "            with gr.Row():\n",
    "                temperature = gr.Slider(0., 2., value=1., step=.1, min_width=200, label='temperature')\n",
    "                top_p = gr.Slider(0., 1., value=1., step=.01, min_width=200, label='top_p')\n",
    "                frequency_penalty = gr.Slider(-2., 2., value=0, step=.1, min_width=200, label='frequency_penalty')\n",
    "                presence_penalty = gr.Slider(-2., 2., value=0, step=.1, min_width=200, label='presence_penalty')\n",
    "\n",
    "        # chatbot interface\n",
    "        gr.ChatInterface(\n",
    "            fn=gpt.chat,\n",
    "            chatbot=gr.Chatbot(height=600, layout='bubble', label='ChatGPT', render=False),\n",
    "            textbox=gr.Textbox(placeholder='Message ChatGPT...', scale=9, render=False),\n",
    "            additional_inputs_accordion=parameters,\n",
    "            additional_inputs=[info, system_prompt, temperature, top_p, frequency_penalty, presence_penalty],\n",
    "            retry_btn=None,\n",
    "            undo_btn=None,\n",
    "            clear_btn=None,\n",
    "            concurrency_limit=None,\n",
    "            theme=None,\n",
    "        )\n",
    "\n",
    "    chatbot.launch()\n",
    "\n",
    "\n",
    "if __name__ == '__main__':\n",
    "    gpt = GPT()\n",
    "    run_chatbot(gpt)"
   ]
  },
  {
   "cell_type": "code",
   "execution_count": null,
   "id": "93bed1e7-5645-4ea4-954c-57b308447797",
   "metadata": {},
   "outputs": [],
   "source": []
  }
 ],
 "metadata": {
  "kernelspec": {
   "display_name": "Python 3 (ipykernel)",
   "language": "python",
   "name": "python3"
  },
  "language_info": {
   "codemirror_mode": {
    "name": "ipython",
    "version": 3
   },
   "file_extension": ".py",
   "mimetype": "text/x-python",
   "name": "python",
   "nbconvert_exporter": "python",
   "pygments_lexer": "ipython3",
   "version": "3.10.12"
  }
 },
 "nbformat": 4,
 "nbformat_minor": 5
}
